{
 "cells": [
  {
   "cell_type": "code",
   "execution_count": 18,
   "id": "400fe189-ea4e-42f8-87b3-edb4a9b32203",
   "metadata": {},
   "outputs": [],
   "source": [
    "#Import dependencies\n",
    "import pandas as pd\n",
    "import matplotlib.pyplot as plt\n",
    "import numpy as np\n",
    "from citipy import citipy"
   ]
  },
  {
   "cell_type": "code",
   "execution_count": 21,
   "id": "85ae7b36-e63e-4240-b487-a356860e5e9d",
   "metadata": {
    "tags": []
   },
   "outputs": [],
   "source": [
    "#Create a set of random latitude and longitude combinations\n",
    "lats = np.random.uniform(low=-90.000, high=90.000, size = 1500)\n",
    "lngs = np.random.uniform(low=-180.000, high=180.000, size = 1500)\n",
    "lat_lngs = zip(lats, lngs)\n",
    "lat_lngs = list(map(list, lat_lngs))\n",
    "#list(lat_lngs)"
   ]
  },
  {
   "cell_type": "code",
   "execution_count": 22,
   "id": "162b3d4f-a800-423b-a2a3-542c98e89cb3",
   "metadata": {},
   "outputs": [
    {
     "data": {
      "text/plain": [
       "617"
      ]
     },
     "execution_count": 22,
     "metadata": {},
     "output_type": "execute_result"
    }
   ],
   "source": [
    "#Create a list for holding the cities\n",
    "cities = []\n",
    "\n",
    "#Identify the nearest city for each lat and long combination\n",
    "for coordinate in lat_lngs:\n",
    "    city = citipy.nearest_city(coordinate[0], coordinate[1]).city_name\n",
    "    \n",
    "    #If the city is unique, then add it to the list\n",
    "    if city not in cities:\n",
    "        cities.append(city)\n",
    "\n",
    "len(cities)"
   ]
  },
  {
   "cell_type": "code",
   "execution_count": null,
   "id": "7172e2b4-a0dc-4253-a3e8-69bc7037caba",
   "metadata": {},
   "outputs": [],
   "source": []
  }
 ],
 "metadata": {
  "kernelspec": {
   "display_name": "Python 3 (ipykernel)",
   "language": "python",
   "name": "python3"
  },
  "language_info": {
   "codemirror_mode": {
    "name": "ipython",
    "version": 3
   },
   "file_extension": ".py",
   "mimetype": "text/x-python",
   "name": "python",
   "nbconvert_exporter": "python",
   "pygments_lexer": "ipython3",
   "version": "3.9.12"
  }
 },
 "nbformat": 4,
 "nbformat_minor": 5
}
